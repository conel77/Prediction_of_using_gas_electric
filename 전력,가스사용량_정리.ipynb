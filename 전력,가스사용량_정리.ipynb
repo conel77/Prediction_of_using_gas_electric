{
  "nbformat": 4,
  "nbformat_minor": 0,
  "metadata": {
    "colab": {
      "provenance": []
    },
    "kernelspec": {
      "name": "python3",
      "display_name": "Python 3"
    },
    "language_info": {
      "name": "python"
    }
  },
  "cells": [
    {
      "cell_type": "markdown",
      "source": [
        "전력 데이터 시각화"
      ],
      "metadata": {
        "id": "is1pniRzXa_a"
      }
    },
    {
      "cell_type": "code",
      "execution_count": null,
      "metadata": {
        "id": "Jk5_mOaMXU8D"
      },
      "outputs": [],
      "source": [
        "###전력 데이터 시각화화\n",
        "import pandas as pd\n",
        "import numpy as np\n",
        "import math\n",
        "import seaborn as sns\n",
        "import matplotlib.pyplot as plt\n",
        "\n",
        "import statsmodels.api as sm\n",
        "from statsmodels.tsa.stattools import adfuller, kpss, ccf\n",
        "from statsmodels.graphics.tsaplots import plot_acf, plot_pacf"
      ]
    },
    {
      "cell_type": "code",
      "source": [
        "#전력 데이터 불러오기\n",
        "df = pd.read_csv('train_전력.csv', encoding = 'utf-8')"
      ],
      "metadata": {
        "id": "z1BaAUrjXgTp"
      },
      "execution_count": null,
      "outputs": []
    },
    {
      "cell_type": "code",
      "source": [
        "#데이터 전처리\n",
        "def vis_time_series_decompose(num):\n",
        "    d = df[df.num==num]\n",
        "    d.index = d.date_time\n",
        "\n",
        "    res = sm.tsa.seasonal_decompose(d['전력사용량(kWh)'], model='additive')\n",
        "\n",
        "    fig, (ax1, ax2, ax3, ax4) = plt.subplots(4, 1, figsize=(20, 12))\n",
        "    res.observed.plot(ax=ax1, title='Observed')\n",
        "    res.trend.plot(ax=ax2, title='Trend')\n",
        "    res.resid.plot(ax=ax3, title='Residual')\n",
        "    res.seasonal.plot(ax=ax4, title='Seasonal')\n",
        "    plt.tight_layout()\n",
        "    plt.show()\n"
      ],
      "metadata": {
        "id": "sgPs76D6XgQI"
      },
      "execution_count": null,
      "outputs": []
    },
    {
      "cell_type": "code",
      "source": [
        "#요일 feature 추가\n",
        "def weekday(x):\n",
        "    if x.dayofweek == 6:\n",
        "        return '일'\n",
        "    elif x.dayofweek == 0:\n",
        "        return '월'\n",
        "    elif x.dayofweek == 1:\n",
        "        return '화'\n",
        "    elif x.dayofweek == 2:\n",
        "        return '수'\n",
        "    elif x.dayofweek == 3:\n",
        "        return '목'\n",
        "    elif x.dayofweek == 4:\n",
        "        return '금'\n",
        "    else:\n",
        "        return '토'\n",
        "\n",
        "# 주말 여부\n",
        "def weekend(x):\n",
        "    if x.dayofweek in [5, 6]:\n",
        "        return 1\n",
        "    else: \n",
        "        return 0"
      ],
      "metadata": {
        "id": "kWBkMm4lXgOE"
      },
      "execution_count": null,
      "outputs": []
    },
    {
      "cell_type": "code",
      "source": [
        "#전처리리\n",
        "df['date_time'] = pd.to_datetime(df['date_time'])\n",
        "df['month'] = df['date_time'].dt.month\n",
        "\n",
        "df['month'] = df['date_time'].dt.month\n",
        "df['day'] = df['date_time'].dt.day\n",
        "df['hour'] = df['date_time'].dt.hour\n",
        "df['weekday'] = df['date_time'].apply(weekday)\n",
        "df['weekend'] = df['date_time'].apply(weekend)"
      ],
      "metadata": {
        "id": "a4tmfkFVXgKn"
      },
      "execution_count": null,
      "outputs": []
    },
    {
      "cell_type": "code",
      "source": [
        "#한국어 글꼴 다운운\n",
        "import matplotlib.pyplot as plt\n",
        "\n",
        "plt.rc('font', family='NanumBarunGothic') "
      ],
      "metadata": {
        "id": "JbPZ9m6JXgII"
      },
      "execution_count": null,
      "outputs": []
    },
    {
      "cell_type": "code",
      "source": [
        "fig = plt.figure(figsize = (15 ,15))\n",
        "plt.title(\"각 건물의 시간별 평균 전력사용량(kWh)\", fontsize=15, y=1.05)\n",
        "plt.axis('off')\n",
        "\n",
        "for num in range(1,61):\n",
        "    d = df[df.num==num]\n",
        "    max_num = max(d.groupby('hour')['전력사용량(kWh)'].mean())\n",
        "    min_num = min(d.groupby('hour')['전력사용량(kWh)'].mean())\n",
        "    ax = fig.add_subplot(10,6,num)\n",
        "    ax.bar(d['hour'].unique(), d.groupby('hour')['전력사용량(kWh)'].mean(), width = 0.8,\n",
        "           color = 'plum')\n",
        "    \n",
        "    \n",
        "    plt.ylim(min_num-150, max_num+200)\n",
        "    ax.set_title(f'건물: {num}')\n",
        "    ax.set_xticks([0,6,12,18,24])\n",
        "plt.tight_layout()\n",
        "plt.show()"
      ],
      "metadata": {
        "id": "WUtQehKsXgF3"
      },
      "execution_count": null,
      "outputs": []
    },
    {
      "cell_type": "code",
      "source": [
        "fig = plt.figure(figsize = (15 ,15))\n",
        "plt.title(\"각 건물의 요일별 평균 전력사용량(kWh)\", fontsize=15, y=1.05)\n",
        "plt.axis('off')\n",
        "\n",
        "#weekday = ['월','화','수','목','금','토','일']\n",
        "#colors = ['plum','plum','plum','plum','plum', 'darkred','darkred']\n",
        "\n",
        "weekday = ['일','토','금','목','수','화','월']\n",
        "colors = ['darkred','darkred', 'plum','plum','plum','plum','plum']\n",
        "\n",
        "for num in range(1,61):\n",
        "    d = df[df.num==num]\n",
        "    d_counts = d.groupby('weekday')['전력사용량(kWh)'].mean()\n",
        "    d_counts = d_counts.reindex(weekday)\n",
        "    ax = fig.add_subplot(9,7,num)\n",
        "    dayy = ['일', '토', '금', '목', '수', '화', '월']\n",
        "    ax.barh(dayy, d_counts, color=colors)\n",
        "    ax.set_title(f'건물: {num}')\n",
        "\n",
        "plt.tight_layout()\n",
        "plt.show()"
      ],
      "metadata": {
        "id": "9bKvX4ZQXgEa"
      },
      "execution_count": null,
      "outputs": []
    },
    {
      "cell_type": "code",
      "source": [
        "fig = plt.figure(figsize = (15 ,15))\n",
        "plt.title(\"각 건물의 시간에 따른 주말여부 평균 전력사용량(kWh)\", fontsize=15, y=1.05)\n",
        "plt.axis('off')\n",
        "\n",
        "for num in range(1,61):\n",
        "    d = df[df.num==num]\n",
        "    ax = fig.add_subplot(10,6,num)\n",
        "    ax.plot(d['hour'].unique(), d[d.weekend==0].groupby('hour')['전력사용량(kWh)'].mean(), label='평일', color='darkslateblue')\n",
        "    ax.plot(d['hour'].unique(), d[d.weekend==1].groupby('hour')['전력사용량(kWh)'].mean(), label='주말', color='darkred')\n",
        "    ax.set_title(f'건물: {num}')\n",
        "    ax.set_xticks([0,6,12,18,24])\n",
        "lines, labels = fig.axes[-1].get_legend_handles_labels()\n",
        "fig.legend(lines, labels, loc = 1, prop={'size':12})\n",
        "plt.tight_layout()\n",
        "plt.show()"
      ],
      "metadata": {
        "id": "28dOLj7AXgBg"
      },
      "execution_count": null,
      "outputs": []
    },
    {
      "cell_type": "code",
      "source": [
        "#건물별 시계열 시각화 함수수\n",
        "def vis_time_series_decompose(num):\n",
        "    d = df[df.num==num]\n",
        "    d.index = d.date_time\n",
        "\n",
        "    res = sm.tsa.seasonal_decompose(d['전력사용량(kWh)'], model='additive')\n",
        "\n",
        "    fig, (ax1, ax2, ax3, ax4) = plt.subplots(4, 1, figsize=(20, 12))\n",
        "    res.observed.plot(ax=ax1, title='Observed', color='darkslateblue')\n",
        "    res.trend.plot(ax=ax2, title='Trend', color='darkslateblue')\n",
        "    res.resid.plot(ax=ax3, title='Residual', color='darkslateblue')\n",
        "    res.seasonal.plot(ax=ax4, title='Seasonal', color='darkslateblue')\n",
        "    plt.tight_layout()\n",
        "    plt.show()"
      ],
      "metadata": {
        "id": "aXUixkA-YKWy"
      },
      "execution_count": null,
      "outputs": []
    },
    {
      "cell_type": "code",
      "source": [
        "vis_time_series_decompose(num=2)\n",
        "vis_time_series_decompose(num=9)\n",
        "vis_time_series_decompose(num=21)"
      ],
      "metadata": {
        "id": "Vg6TsTOyYKTa"
      },
      "execution_count": null,
      "outputs": []
    },
    {
      "cell_type": "code",
      "source": [
        "###가스 데이터 시각화\n",
        "import pandas as pd\n",
        "import numpy as np\n",
        "import math\n",
        "import seaborn as sns\n",
        "import matplotlib.pyplot as plt\n",
        "\n",
        "import statsmodels.api as sm\n",
        "from statsmodels.tsa.stattools import adfuller, kpss, ccf\n",
        "from statsmodels.graphics.tsaplots import plot_acf, plot_pacf"
      ],
      "metadata": {
        "id": "s6iIpFsDYKRe"
      },
      "execution_count": null,
      "outputs": []
    },
    {
      "cell_type": "code",
      "source": [
        "df = pd.read_csv('train가스.csv', encoding = 'euc-kr')\n",
        "\n",
        "df.head()"
      ],
      "metadata": {
        "id": "aAUdD2ycYKPA"
      },
      "execution_count": null,
      "outputs": []
    },
    {
      "cell_type": "code",
      "source": [
        "def vis_time_series_decompose(num):\n",
        "    d = df[df.num==num]\n",
        "    d.index = d.date_time\n",
        "\n",
        "    res = sm.tsa.seasonal_decompose(d['가스사용량(kWh)'], model='additive')\n",
        "\n",
        "    fig, (ax1, ax2, ax3, ax4) = plt.subplots(4, 1, figsize=(20, 12))\n",
        "    res.observed.plot(ax=ax1, title='Observed')\n",
        "    res.trend.plot(ax=ax2, title='Trend')\n",
        "    res.resid.plot(ax=ax3, title='Residual')\n",
        "    res.seasonal.plot(ax=ax4, title='Seasonal')\n",
        "    plt.tight_layout()\n",
        "    plt.show()"
      ],
      "metadata": {
        "id": "Xi3WbXLIYKM0"
      },
      "execution_count": null,
      "outputs": []
    },
    {
      "cell_type": "code",
      "source": [
        "#요일\n",
        "def weekday(x):\n",
        "    if x.dayofweek == 6:\n",
        "        return '일'\n",
        "    elif x.dayofweek == 0:\n",
        "        return '월'\n",
        "    elif x.dayofweek == 1:\n",
        "        return '화'\n",
        "    elif x.dayofweek == 2:\n",
        "        return '수'\n",
        "    elif x.dayofweek == 3:\n",
        "        return '목'\n",
        "    elif x.dayofweek == 4:\n",
        "        return '금'\n",
        "    else:\n",
        "        return '토'\n",
        "\n",
        "# 주말 여부\n",
        "def weekend(x):\n",
        "    if x.dayofweek in [5, 6]:\n",
        "        return 1\n",
        "    else: \n",
        "        return 0"
      ],
      "metadata": {
        "id": "alc__vMsYKKq"
      },
      "execution_count": null,
      "outputs": []
    },
    {
      "cell_type": "code",
      "source": [
        "df['date_time'] = pd.to_datetime(df['date_time'])\n",
        "df['month'] = df['date_time'].dt.month\n",
        "\n",
        "df['month'] = df['date_time'].dt.month\n",
        "df['day'] = df['date_time'].dt.day\n",
        "df['hour'] = df['date_time'].dt.hour\n",
        "df['weekday'] = df['date_time'].apply(weekday)\n",
        "df['weekend'] = df['date_time'].apply(weekend)"
      ],
      "metadata": {
        "id": "WPqh3_fbYKIR"
      },
      "execution_count": null,
      "outputs": []
    },
    {
      "cell_type": "code",
      "source": [
        "fig = plt.figure(figsize = (15 ,15))\n",
        "plt.title(\"각 건물의 시간별 평균 가스사용량(kWh)\", fontsize=15, y=1.05)\n",
        "plt.axis('off')\n",
        "\n",
        "for num in range(1,42):\n",
        "    d = df[df.num==num]\n",
        "    max_num = max(d.groupby('hour')['가스사용량(kWh)'].mean())\n",
        "    min_num = min(d.groupby('hour')['가스사용량(kWh)'].mean())\n",
        "    ax = fig.add_subplot(9,5,num)\n",
        "    ax.bar(d['hour'].unique(), d.groupby('hour')['가스사용량(kWh)'].mean(), width = 0.8,\n",
        "           color = 'plum')\n",
        "    \n",
        "    \n",
        "    #plt.ylim(min_num-150, max_num+200)\n",
        "    ax.set_title(f'건물: {num}')\n",
        "    ax.set_xticks([0,6,12,18,24])\n",
        "plt.tight_layout()\n",
        "plt.show()"
      ],
      "metadata": {
        "id": "WhaWo6ycYKGS"
      },
      "execution_count": null,
      "outputs": []
    },
    {
      "cell_type": "code",
      "source": [
        "fig = plt.figure(figsize = (15 ,15))\n",
        "plt.title(\"각 건물의 요일별 평균 가스사용량(kWh)\", fontsize=15, y=1.05)\n",
        "plt.axis('off')\n",
        "\n",
        "#weekday = ['월','화','수','목','금','토','일']\n",
        "#colors = ['plum','plum','plum','plum','plum', 'darkred','darkred']\n",
        "\n",
        "weekday = ['일','토','금','목','수','화','월']\n",
        "colors = ['darkred','darkred', 'plum','plum','plum','plum','plum']\n",
        "\n",
        "for num in range(1,42):\n",
        "    d = df[df.num==num]\n",
        "    d_counts = d.groupby('weekday')['가스사용량(kWh)'].mean()\n",
        "    d_counts = d_counts.reindex(weekday)\n",
        "    ax = fig.add_subplot(9,7,num)\n",
        "    dayy = ['일', '토', '금', '목', '수', '화', '월']\n",
        "    ax.barh(dayy, d_counts, color=colors)\n",
        "    ax.set_title(f'건물: {num}')\n",
        "\n",
        "plt.tight_layout()\n",
        "plt.show()"
      ],
      "metadata": {
        "id": "ESB6j0YSYKEG"
      },
      "execution_count": null,
      "outputs": []
    },
    {
      "cell_type": "code",
      "source": [
        "fig = plt.figure(figsize = (15 ,15))\n",
        "plt.title(\"각 건물의 시간에 따른 주말여부 평균 가스사용량(kWh)\", fontsize=15, y=1.05)\n",
        "plt.axis('off')\n",
        "\n",
        "for num in range(1,42):\n",
        "    d = df[df.num==num]\n",
        "    ax = fig.add_subplot(9,5,num)\n",
        "    ax.plot(d['hour'].unique(), d[d.weekend==0].groupby('hour')['가스사용량(kWh)'].mean(), label='평일', color='darkslateblue')\n",
        "    ax.plot(d['hour'].unique(), d[d.weekend==1].groupby('hour')['가스사용량(kWh)'].mean(), label='주말', color='darkred')\n",
        "    ax.set_title(f'건물: {num}')\n",
        "    ax.set_xticks([0,6,12,18,24])\n",
        "lines, labels = fig.axes[-1].get_legend_handles_labels()\n",
        "fig.legend(lines, labels, loc = 1, prop={'size':12})\n",
        "plt.tight_layout()\n",
        "plt.show()"
      ],
      "metadata": {
        "id": "ezaHbw1gYKB4"
      },
      "execution_count": null,
      "outputs": []
    },
    {
      "cell_type": "code",
      "source": [
        "def vis_time_series_decompose(num):\n",
        "    d = df[df.num==num]\n",
        "    d.index = d.date_time\n",
        "\n",
        "    res = sm.tsa.seasonal_decompose(d['가스사용량(kWh)'], model='additive')\n",
        "\n",
        "    fig, (ax1, ax2, ax3, ax4) = plt.subplots(4, 1, figsize=(20, 12))\n",
        "    res.observed.plot(ax=ax1, title='Observed', color='darkslateblue')\n",
        "    res.trend.plot(ax=ax2, title='Trend', color='darkslateblue')\n",
        "    res.resid.plot(ax=ax3, title='Residual', color='darkslateblue')\n",
        "    res.seasonal.plot(ax=ax4, title='Seasonal', color='darkslateblue')\n",
        "    plt.tight_layout()\n",
        "    plt.show()"
      ],
      "metadata": {
        "id": "C3N28RPrYJ_n"
      },
      "execution_count": null,
      "outputs": []
    },
    {
      "cell_type": "code",
      "source": [
        "vis_time_series_decompose(num=2)\n",
        "vis_time_series_decompose(num=9)"
      ],
      "metadata": {
        "id": "D5TZL8RIYvpF"
      },
      "execution_count": null,
      "outputs": []
    },
    {
      "cell_type": "code",
      "source": [
        "#heatmap 만들기\n",
        "corr = []\n",
        "for num in range(1,42):\n",
        "    d = df[df.num==num]\n",
        "    num_corr = d.corr()['가스사용량(kWh)']\n",
        "    num_corr = num_corr.drop(['num','비전기냉방설비운영','태양광보유','가스사용량(kWh)'])\n",
        "    corr.append(num_corr)\n",
        "corr_df = pd.concat(corr, axis=1).T\n",
        "corr_df.index = list(range(1,42))\n",
        "\n",
        "# 시각화\n",
        "f, ax = plt.subplots(figsize=(20,8))\n",
        "plt.title(\"건물별 가스사용량과 변수들의 상관관계\", fontsize=15)\n",
        "sns.heatmap(corr_df.T, cmap=sns.diverging_palette(240,10,as_cmap=True), ax=ax)\n",
        "plt.xlabel('건물(num)')\n",
        "plt.show()"
      ],
      "metadata": {
        "id": "IumfiVzyYvll"
      },
      "execution_count": null,
      "outputs": []
    },
    {
      "cell_type": "code",
      "source": [
        "###불쾌지수 전처리 및 시각화화"
      ],
      "metadata": {
        "id": "tjxBw0C4Yvh0"
      },
      "execution_count": null,
      "outputs": []
    },
    {
      "cell_type": "code",
      "source": [
        "import pandas as pd\n",
        "import matplotlib.pyplot as plt\n",
        "import seaborn as sns\n",
        "import numpy as np"
      ],
      "metadata": {
        "id": "lKmvShKnZAvD"
      },
      "execution_count": null,
      "outputs": []
    },
    {
      "cell_type": "code",
      "source": [
        "train = pd.read_csv('train_전력.csv', encoding='utf-8')\n",
        "train.head()"
      ],
      "metadata": {
        "id": "o2SAdBjeZArl"
      },
      "execution_count": null,
      "outputs": []
    },
    {
      "cell_type": "code",
      "source": [
        "discomfort = train['불쾌지수']\n",
        "len(discomfort)"
      ],
      "metadata": {
        "id": "vKu-rNZHZApY"
      },
      "execution_count": null,
      "outputs": []
    },
    {
      "cell_type": "code",
      "source": [
        "#불쾌지수\n",
        "train['불쾌지수_c']=pd.cut(train.불쾌지수, bins=[50, 68, 75, 80, 90], labels=['낮음', '보통', '높음', '매우 높음'])\n",
        "train['불쾌지수_c'].head()"
      ],
      "metadata": {
        "id": "FFbqqGuFZAnN"
      },
      "execution_count": null,
      "outputs": []
    },
    {
      "cell_type": "code",
      "source": [
        "##box plot - 불쾌지수\n",
        "fig = plt.figure(figsize = (15 ,15))\n",
        "plt.title(\"Discomfort Index and average power consumption for each building(kWh)\", fontsize=15, y=1.05)\n",
        "plt.axis('off')\n",
        "\n",
        "plt.style.use('default')\n",
        "plt.rcParams['figure.figsize'] = (4, 3)\n",
        "plt.rcParams['font.size'] = 12\n",
        "\n",
        "for num in range(1,61):\n",
        "    df = train[train.num==num]\n",
        "    df_min = df.groupby('불쾌지수_c')['전력사용량(kWh)'].min()\n",
        "    df_max = df.groupby('불쾌지수_c')['전력사용량(kWh)'].max()\n",
        "    low = np.arange(df_min[0], df_max[0])\n",
        "    normal = np.arange(df_min[1], df_max[1])\n",
        "    high = np.arange(df_min[2], df_max[2])\n",
        "    very_high = np.arange(df_min[3], df_max[3])\n",
        "\n",
        "    ax = fig.add_subplot(10,6,num)\n",
        "    ax.boxplot([low, normal, high, very_high], vert=False)\n",
        "    ax.set_yticklabels(['Low', 'Normal', 'High', 'Very high']) \n",
        "    ax.set_title(f'Building: {num}')\n",
        "\n",
        "plt.tight_layout()\n",
        "plt.show()"
      ],
      "metadata": {
        "id": "kTA-RYF-ZAlP"
      },
      "execution_count": null,
      "outputs": []
    },
    {
      "cell_type": "code",
      "source": [
        "#체감온도\n",
        "sensory_temp = train['체감온도']\n",
        "sensory_temp.head()"
      ],
      "metadata": {
        "id": "GZEbJBYZZAi7"
      },
      "execution_count": null,
      "outputs": []
    },
    {
      "cell_type": "code",
      "source": [
        "train.loc[train['체감온도']>=31, '체감온도_b']='매우\\n위험'\n",
        "train.loc[(train['체감온도']>=28)&(train['체감온도']<31), '체감온도_b']='위험'\n",
        "train.loc[(train['체감온도']>=25)&(train['체감온도']<28), '체감온도_b']='경고'\n",
        "train.loc[(train['체감온도']>=21)&(train['체감온도']<25), '체감온도_b']='주의'\n",
        "train.loc[train['체감온도']<21, '체감온도_b']='관심'"
      ],
      "metadata": {
        "id": "so2JfPl8ZAgw"
      },
      "execution_count": null,
      "outputs": []
    },
    {
      "cell_type": "code",
      "source": [
        "#box plot - 체감온도\n",
        "fig = plt.figure(figsize = (15 ,15))\n",
        "plt.title(\"sensory temperature and average power consumption for each building(kWh)\", fontsize=15, y=1.05)\n",
        "plt.axis('off')\n",
        "\n",
        "plt.style.use('default')\n",
        "plt.rcParams['figure.figsize'] = (4, 3)\n",
        "plt.rcParams['font.size'] = 12\n",
        "\n",
        "for num in range(1,61):\n",
        "    df = train[train.num==num]\n",
        "    df_min = df.groupby('체감온도_b')['전력사용량(kWh)'].min()\n",
        "    df_max = df.groupby('체감온도_b')['전력사용량(kWh)'].max()\n",
        "    attention = np.arange(df_min[0], df_max[0])\n",
        "    caution = np.arange(df_min[1], df_max[1])\n",
        "    warning = np.arange(df_min[2], df_max[2])\n",
        "    danger = np.arange(df_min[3], df_max[3])\n",
        "    very_danger = np.arange(df_min[4], df_max[4])\n",
        "\n",
        "    ax = fig.add_subplot(10,6,num)\n",
        "    ax.boxplot([attention, caution, warning, danger, very_danger], vert=False)\n",
        "    ax.set_yticklabels(['attention', 'caution', 'warning', 'danger', 'very_danger']) \n",
        "    ax.set_title(f'Building: {num}')\n",
        "\n",
        "plt.tight_layout()\n",
        "plt.show()"
      ],
      "metadata": {
        "id": "anwwka_HZAeP"
      },
      "execution_count": null,
      "outputs": []
    }
  ]
}